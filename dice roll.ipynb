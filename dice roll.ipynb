{
 "cells": [
  {
   "cell_type": "markdown",
   "id": "0f1a6dd8",
   "metadata": {},
   "source": [
    "## Dice roll"
   ]
  },
  {
   "cell_type": "code",
   "execution_count": null,
   "id": "c32782a1",
   "metadata": {},
   "outputs": [
    {
     "name": "stdout",
     "output_type": "stream",
     "text": [
      "\n",
      "To roll the dice-1 \n",
      "To exit-2\n",
      "\n",
      "What u wanna do(1/2): 1\n",
      "This is ur rolled num from dice  1\n",
      "\n",
      "To roll the dice-1 \n",
      "To exit-2\n",
      "\n",
      "What u wanna do(1/2): 1\n",
      "This is ur rolled num from dice  5\n",
      "\n",
      "To roll the dice-1 \n",
      "To exit-2\n"
     ]
    }
   ],
   "source": [
    "import random\n",
    "\n",
    "while True:\n",
    "    print(\"\\nTo roll the dice-1 \\nTo exit-2\")\n",
    "    user = int(input(\"\\nWhat u wanna do(1/2): \"))\n",
    "    if user == 1:\n",
    "        number = random.randint(1,6)\n",
    "        print(\"This is ur rolled num from dice \",number)\n",
    "    else:\n",
    "        break\n",
    "        "
   ]
  },
  {
   "cell_type": "code",
   "execution_count": null,
   "id": "e3e1b446",
   "metadata": {},
   "outputs": [],
   "source": []
  }
 ],
 "metadata": {
  "kernelspec": {
   "display_name": "Python 3",
   "language": "python",
   "name": "python3"
  },
  "language_info": {
   "codemirror_mode": {
    "name": "ipython",
    "version": 3
   },
   "file_extension": ".py",
   "mimetype": "text/x-python",
   "name": "python",
   "nbconvert_exporter": "python",
   "pygments_lexer": "ipython3",
   "version": "3.8.8"
  }
 },
 "nbformat": 4,
 "nbformat_minor": 5
}
